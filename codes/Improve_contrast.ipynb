{
  "nbformat": 4,
  "nbformat_minor": 0,
  "metadata": {
    "colab": {
      "name": "Improve contrast.ipynb",
      "provenance": []
    },
    "kernelspec": {
      "name": "python3",
      "display_name": "Python 3"
    },
    "language_info": {
      "name": "python"
    }
  },
  "cells": [
    {
      "cell_type": "code",
      "execution_count": null,
      "metadata": {
        "id": "Af3WWxJKEBg_"
      },
      "outputs": [],
      "source": [
        "!apt-get -qq install -y libsm6 libxext6 && pip install -q -U opencv-python\n",
        "import cv2\n",
        "from PIL import Image\n",
        "from google.colab.patches import cv2_imshow\n",
        "\n",
        "import numpy as np\n",
        "import pandas as pd\n",
        "import cv2"
      ]
    },
    {
      "cell_type": "code",
      "source": [
        "he1 = cv2.imread(\"he1.jpg\")\n",
        "he2 = cv2.imread(\"he2.jpg\")\n",
        "he3 = cv2.imread(\"he3.jpg\")\n",
        "he4 = cv2.imread(\"he4.jpg\")\n",
        "def hiseq(he1):\n",
        "  \n",
        "  # preprocessing\n",
        "\n",
        "  he1_gray = cv2.cvtColor(he1, cv2.COLOR_BGR2GRAY)\n",
        "  unique, counts = np.unique(he1_gray, return_counts=True)\n",
        "  \n",
        "# count of each pixel \n",
        "  dict_he1 =dict(zip(unique, counts))\n",
        "\n",
        "# sum of all pixels\n",
        "  sum_he1 = sum(dict_he1.values())\n",
        "\n",
        "# preprocessing\n",
        "  if dict_he1.get(0)==None:\n",
        "    dict_he1[0]=0\n",
        "\n",
        "# count of each pixel / sum of all pixels\n",
        "  for i in dict_he1 :\n",
        "      dict_he1[i] = dict_he1[i] / sum_he1\n",
        "   \n",
        "  dict_accum = {}\n",
        "  dict_accum[0] = dict_he1.get(0)\n",
        " \n",
        "# cumulative sum \n",
        "  for i in range(1,256):\n",
        "    if dict_he1.get(i):\n",
        "      dict_accum[i] =  dict_he1.get(i) + dict_accum.get(i-1)\n",
        "    else:\n",
        "      dict_accum[i]= dict_accum.get(i-1)\n",
        "\n",
        "# cumulative sum * max of pixels range\n",
        "  for i in range(256):\n",
        "      dict_accum[i] = round(dict_accum.get(i)*255)\n",
        "\n",
        "#  equalize image\n",
        "  for i in range(he1_gray.shape[0]):\n",
        "    for j in range(he1_gray.shape[1]):\n",
        "       he1_gray[i][j] = dict_accum[he1_gray[i][j]]\n",
        "  # cv2_imshow(he1_gray)\n",
        "  return he1_gray\n",
        "\n",
        "hiseq(he1)  \n",
        "hiseq(he2) \n",
        "hiseq(he3) \n",
        "hiseq(he4) "
      ],
      "metadata": {
        "id": "86CrarHwXPLy"
      },
      "execution_count": null,
      "outputs": []
    },
    {
      "cell_type": "code",
      "source": [
        "# preprocessing\n",
        "f_rgb = cv2.imread(\"he4.jpg\")\n",
        "f = cv2.cvtColor(f_rgb,cv2.COLOR_BGR2GRAY)\n",
        "\n",
        "f_he = hiseq(f_rgb)\n",
        "\n",
        "# apply equation\n",
        "for i in np.arange(0.1,0.6,0.1):\n",
        "  g = i*f+(1-i)*f_he\n",
        "  cv2_imshow(g)"
      ],
      "metadata": {
        "id": "Swn3bkpPXTTi"
      },
      "execution_count": null,
      "outputs": []
    },
    {
      "cell_type": "code",
      "source": [
        "def LHE(he1,xWin,yWin):\n",
        "  \n",
        "  # preprocessing\n",
        "\n",
        "  he1_gray = cv2.cvtColor(he1, cv2.COLOR_BGR2GRAY)\n",
        "  he1_local= np.empty((xWin, yWin), float)\n",
        "\n",
        "  # for m in range(0,he1_gray.shape[0]-xWin,int((xWin-1)/2)):\n",
        "  #   for n in range(0,he1_gray.shape[1]-yWin,int((yWin-1)/2)):\n",
        "  \n",
        "  for m in range(he1_gray.shape[0]-xWin):\n",
        "    if m+xWin > he1_gray.shape[0] :\n",
        "          break\n",
        "    for n in range(he1_gray.shape[1]-yWin):\n",
        "\n",
        "       \n",
        "\n",
        "        he1_local = he1_gray[m:m+xWin,n:n+yWin]\n",
        "\n",
        "        unique, counts = np.unique(he1_local, return_counts=True)\n",
        "        \n",
        "      # count of each pixel \n",
        "        dict_he1 =dict(zip(unique, counts))\n",
        "\n",
        "      # sum of all pixels\n",
        "        sum_he1 = sum(dict_he1.values())\n",
        "\n",
        "        # preprocessing\n",
        "        if dict_he1.get(0)==None:\n",
        "            dict_he1[0]=0\n",
        "\n",
        "        # count of each pixel / sum of all pixels\n",
        "        for i in dict_he1 :\n",
        "              dict_he1[i] = dict_he1[i] / sum_he1\n",
        "          \n",
        "        dict_accum = {}\n",
        "        dict_accum[0] = dict_he1.get(0)\n",
        "        \n",
        "        # cumulative sum \n",
        "        for i in range(1,256):\n",
        "            if dict_he1.get(i):\n",
        "              dict_accum[i] =  dict_he1.get(i) + dict_accum.get(i-1)\n",
        "            else:\n",
        "              dict_accum[i]= dict_accum.get(i-1)\n",
        "\n",
        "        # cumulative sum * max of pixels range\n",
        "        for i in range(256):\n",
        "              dict_accum[i] = round(dict_accum.get(i)*255)\n",
        "\n",
        "        #  equalize image\n",
        "        for i in range(he1_local.shape[0]):\n",
        "            for j in range(he1_local.shape[1]):\n",
        "              he1_gray[i+m][j+n] = dict_accum[he1_local[i][j]]\n",
        "  cv2_imshow(he1_gray)\n",
        "  # return he1_gray\n",
        "  \n",
        "LHE(he1,201,201)\n",
        "\n"
      ],
      "metadata": {
        "id": "U1-1gYOMXUJV"
      },
      "execution_count": null,
      "outputs": []
    },
    {
      "cell_type": "code",
      "source": [
        ""
      ],
      "metadata": {
        "id": "yshAEqyNXYjm"
      },
      "execution_count": null,
      "outputs": []
    }
  ]
}